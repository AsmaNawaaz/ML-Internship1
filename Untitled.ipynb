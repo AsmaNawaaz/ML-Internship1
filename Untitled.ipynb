{
 "cells": [
  {
   "cell_type": "code",
   "execution_count": 1,
   "id": "39476632",
   "metadata": {},
   "outputs": [
    {
     "name": "stdout",
     "output_type": "stream",
     "text": [
      "ASMA ASMA ASMA\n",
      "A.A.ASMA\n"
     ]
    }
   ],
   "source": [
    "s=input()\n",
    "l=s.split()\n",
    "print(l[0][0]+'.'+ l[1][0] + '.'+ l[2])"
   ]
  },
  {
   "cell_type": "code",
   "execution_count": 2,
   "id": "6b7ad506",
   "metadata": {},
   "outputs": [
    {
     "name": "stdout",
     "output_type": "stream",
     "text": [
      "ASMA ASMA ASMA\n",
      "A.A.ASMA\n"
     ]
    }
   ],
   "source": [
    "s=input()\n",
    "l=s.split()\n",
    "print(l[0][0]+'.'+ l[1][0] + '.'+ l[2])"
   ]
  },
  {
   "cell_type": "code",
   "execution_count": 3,
   "id": "3e81a053",
   "metadata": {},
   "outputs": [
    {
     "data": {
      "text/plain": [
       "'C:\\\\Users\\\\ASMA'"
      ]
     },
     "execution_count": 3,
     "metadata": {},
     "output_type": "execute_result"
    }
   ],
   "source": [
    "pwd"
   ]
  },
  {
   "cell_type": "code",
   "execution_count": null,
   "id": "c85cbf31",
   "metadata": {},
   "outputs": [],
   "source": []
  }
 ],
 "metadata": {
  "kernelspec": {
   "display_name": "Python 3",
   "language": "python",
   "name": "python3"
  },
  "language_info": {
   "codemirror_mode": {
    "name": "ipython",
    "version": 3
   },
   "file_extension": ".py",
   "mimetype": "text/x-python",
   "name": "python",
   "nbconvert_exporter": "python",
   "pygments_lexer": "ipython3",
   "version": "3.8.8"
  }
 },
 "nbformat": 4,
 "nbformat_minor": 5
}
